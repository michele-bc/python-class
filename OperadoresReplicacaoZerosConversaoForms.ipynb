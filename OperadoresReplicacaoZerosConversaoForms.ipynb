{
 "cells": [
  {
   "cell_type": "markdown",
   "metadata": {
    "id": "uBXsYzq8LoiO"
   },
   "source": [
    "# Operadores de Replicação\n",
    "\n",
    "Replicam algum objeto (*strings*, listas, tuplas).\n",
    "\n",
    "* Operador binário representado por *.\n",
    "\n",
    "* Sintaxe: \n",
    "  ```\n",
    "  operando 1 * operando 2\n",
    "  ```\n",
    "  \n",
    "* Para uma dupla de operandos composta por um número inteiro e um objeto do tipo *string*, lista, tupla.\n",
    "\n",
    "A ordem dos operandos não importa."
   ]
  },
  {
   "cell_type": "code",
   "execution_count": 19,
   "metadata": {
    "colab": {
     "base_uri": "https://localhost:8080/"
    },
    "executionInfo": {
     "elapsed": 989,
     "status": "ok",
     "timestamp": 1613871799683,
     "user": {
      "displayName": "Michele Bertoldo Coêlho",
      "photoUrl": "https://lh3.googleusercontent.com/a-/AOh14Giwy34LLmFLDcLRK2QCeySCEq0SKYETU4CM5kPwrg=s64",
      "userId": "17752576285375789184"
     },
     "user_tz": 180
    },
    "id": "QIK0VRccLqhK",
    "outputId": "3374de1c-15ee-4a25-9a54-b2ed437f18f5"
   },
   "outputs": [
    {
     "name": "stdout",
     "output_type": "stream",
     "text": [
      "6\n",
      "abcabcabc\n",
      "[1, 2, 3, 4, 1, 2, 3, 4, 1, 2, 3, 4, 1, 2, 3, 4, 1, 2, 3, 4]\n",
      "('a', 'b', 4.2, 'a', 'b', 4.2, 'a', 'b', 4.2)\n",
      "()\n"
     ]
    }
   ],
   "source": [
    "print(3 * 2)        # *: operador aritmético de multiplicação\n",
    "\n",
    "print(3 * 'abc')    # *: operador de replicação\n",
    "\n",
    "#print(3.14 * 'xyz') # Erro: a operação de replicação só funciona\n",
    "                     #       quando o operando é inteiro\n",
    "\n",
    "print([1, 2, 3, 4] * 5)     # Replicação de uma lista\n",
    "\n",
    "print(('a', 'b', 4.2) * 3)  # Replicação de uma tupla\n",
    "\n",
    "# Obs: na replicação a ordem dos operandos (o valor inteiro e o objeto que será\n",
    "#      replicado) não importa."
   ]
  },
  {
   "cell_type": "code",
   "execution_count": 21,
   "metadata": {
    "colab": {
     "base_uri": "https://localhost:8080/"
    },
    "executionInfo": {
     "elapsed": 2758,
     "status": "ok",
     "timestamp": 1613871916169,
     "user": {
      "displayName": "Michele Bertoldo Coêlho",
      "photoUrl": "https://lh3.googleusercontent.com/a-/AOh14Giwy34LLmFLDcLRK2QCeySCEq0SKYETU4CM5kPwrg=s64",
      "userId": "17752576285375789184"
     },
     "user_tz": 180
    },
    "id": "6unrxmmfQW8l",
    "outputId": "9141a853-e53e-4187-a65e-648dde08d628"
   },
   "outputs": [
    {
     "name": "stdout",
     "output_type": "stream",
     "text": [
      "()\n",
      "\n",
      "()\n",
      "\n"
     ]
    }
   ],
   "source": [
    "# Utilizando números inteiros negativos, a operação retorna vazio\n",
    "# O resultado é o mesmo que se replicar por zero:\n",
    "\n",
    "print(('a', 'b', 4.2) * -4)\n",
    "\n",
    "print(-3 * 'abc')\n",
    "\n",
    "print(('a', 'b', 4.2) * 0)\n",
    "\n",
    "print(0 * 'abc')"
   ]
  },
  {
   "cell_type": "code",
   "execution_count": 15,
   "metadata": {
    "colab": {
     "base_uri": "https://localhost:8080/",
     "height": 231
    },
    "executionInfo": {
     "elapsed": 1140,
     "status": "error",
     "timestamp": 1613871655092,
     "user": {
      "displayName": "Michele Bertoldo Coêlho",
      "photoUrl": "https://lh3.googleusercontent.com/a-/AOh14Giwy34LLmFLDcLRK2QCeySCEq0SKYETU4CM5kPwrg=s64",
      "userId": "17752576285375789184"
     },
     "user_tz": 180
    },
    "id": "rp9Kt-OyOxX5",
    "outputId": "8a84ced8-7b45-4d8c-ad28-8a390932ddae"
   },
   "outputs": [
    {
     "ename": "TypeError",
     "evalue": "ignored",
     "output_type": "error",
     "traceback": [
      "\u001b[0;31m---------------------------------------------------------------------------\u001b[0m",
      "\u001b[0;31mTypeError\u001b[0m                                 Traceback (most recent call last)",
      "\u001b[0;32m<ipython-input-15-7a6676792dbb>\u001b[0m in \u001b[0;36m<module>\u001b[0;34m()\u001b[0m\n\u001b[1;32m      4\u001b[0m \u001b[0;31m#print( [1, 2, 3, 4] * 'a' )\u001b[0m\u001b[0;34m\u001b[0m\u001b[0;34m\u001b[0m\u001b[0;34m\u001b[0m\u001b[0m\n\u001b[1;32m      5\u001b[0m \u001b[0;31m#print( 'a' * 'b' )\u001b[0m\u001b[0;34m\u001b[0m\u001b[0;34m\u001b[0m\u001b[0;34m\u001b[0m\u001b[0m\n\u001b[0;32m----> 6\u001b[0;31m \u001b[0mprint\u001b[0m\u001b[0;34m(\u001b[0m\u001b[0;34m{\u001b[0m\u001b[0;34m\"brand\"\u001b[0m\u001b[0;34m:\u001b[0m \u001b[0;34m\"Ford\"\u001b[0m\u001b[0;34m,\u001b[0m \u001b[0;34m\"model\"\u001b[0m\u001b[0;34m:\u001b[0m \u001b[0;34m\"Mustang\"\u001b[0m\u001b[0;34m,\u001b[0m \u001b[0;34m\"year\"\u001b[0m\u001b[0;34m:\u001b[0m \u001b[0;36m1964\u001b[0m\u001b[0;34m}\u001b[0m \u001b[0;34m*\u001b[0m \u001b[0;36m2\u001b[0m\u001b[0;34m)\u001b[0m\u001b[0;34m\u001b[0m\u001b[0;34m\u001b[0m\u001b[0m\n\u001b[0m",
      "\u001b[0;31mTypeError\u001b[0m: unsupported operand type(s) for *: 'dict' and 'int'"
     ]
    }
   ],
   "source": [
    "# Não pode multiplicar os objetos a serem replicados por algo que não um inteiro\n",
    "\n",
    "#print( [1, 2, 3, 4] * [2, 2] )\n",
    "#print( [1, 2, 3, 4] * 'a' )\n",
    "#print( 'a' * 'b' )\n",
    "\n",
    "# Dicionários não são replicáveis\n",
    "print({\"brand\": \"Ford\", \"model\": \"Mustang\", \"year\": 1964} * 2)"
   ]
  },
  {
   "cell_type": "markdown",
   "metadata": {
    "id": "XxO5_H7lNM6i"
   },
   "source": [
    "# Zeros, Nulos, Vazios, ...\n",
    "\n",
    "Podem ser gerados pelas funções indicadoras das classes:\n",
    "\n",
    "* int()\n",
    "* float()\n",
    "* complex()\n",
    "* str()\n",
    "* list()\n",
    "* tuple()\n",
    "* dict()"
   ]
  },
  {
   "cell_type": "code",
   "execution_count": 26,
   "metadata": {
    "colab": {
     "base_uri": "https://localhost:8080/"
    },
    "executionInfo": {
     "elapsed": 1540,
     "status": "ok",
     "timestamp": 1613872071334,
     "user": {
      "displayName": "Michele Bertoldo Coêlho",
      "photoUrl": "https://lh3.googleusercontent.com/a-/AOh14Giwy34LLmFLDcLRK2QCeySCEq0SKYETU4CM5kPwrg=s64",
      "userId": "17752576285375789184"
     },
     "user_tz": 180
    },
    "id": "4H7JyRlfNh6H",
    "outputId": "a9cd20e9-b4a6-40c0-de4a-1ce3309cfd51"
   },
   "outputs": [
    {
     "name": "stdout",
     "output_type": "stream",
     "text": [
      "0 0.0 0j\n",
      "**\n",
      "[] () {}\n"
     ]
    }
   ],
   "source": [
    "# O zero pode ser gerado pelas funções indicadoras das classes:\n",
    "#  int(), float(), complex(), str(), list(), tuple(), dict()\n",
    "\n",
    "print( int(), float(), complex() )  # Retornam zeros\n",
    "print( '*' + str() + '*' )          # String vazia\n",
    "print( list(), tuple(), dict() )    # Conjuntos vazios"
   ]
  },
  {
   "cell_type": "markdown",
   "metadata": {
    "id": "y6kf3yqMTO8_"
   },
   "source": [
    "Lembrando que o **zero/vazio** é entendido como **False** em Python (todos os outros valores são entendidos como True)."
   ]
  },
  {
   "cell_type": "code",
   "execution_count": 34,
   "metadata": {
    "colab": {
     "base_uri": "https://localhost:8080/"
    },
    "executionInfo": {
     "elapsed": 899,
     "status": "ok",
     "timestamp": 1613872518199,
     "user": {
      "displayName": "Michele Bertoldo Coêlho",
      "photoUrl": "https://lh3.googleusercontent.com/a-/AOh14Giwy34LLmFLDcLRK2QCeySCEq0SKYETU4CM5kPwrg=s64",
      "userId": "17752576285375789184"
     },
     "user_tz": 180
    },
    "id": "7ycxDsF2SWLm",
    "outputId": "5a4a86dd-5072-425a-8374-dfa1735f8ca1"
   },
   "outputs": [
    {
     "name": "stdout",
     "output_type": "stream",
     "text": [
      "0j é F\n",
      " é F\n",
      "[] é F\n",
      "{} é F\n"
     ]
    }
   ],
   "source": [
    "if(complex()):\n",
    "  print(complex(), 'é V')\n",
    "else:\n",
    "  print(complex(), 'é F')\n",
    "\n",
    "if(str()):\n",
    "  print(str(), 'é V')\n",
    "else:\n",
    "  print(str(), 'é F')\n",
    "\n",
    "if(list()):\n",
    "  print(list(), 'é V')\n",
    "else:\n",
    "  print(list(), 'é F')\n",
    "\n",
    "if(dict()):\n",
    "  print(dict(), 'é V')\n",
    "else:\n",
    "  print(dict(), 'é F')"
   ]
  },
  {
   "cell_type": "markdown",
   "metadata": {
    "id": "SN_MuMl_Tjdz"
   },
   "source": [
    "# Conversões entre tipos de dados\n",
    "\n",
    "As funções indicadoras de classe também podem ser usadas para converter um objeto de um tipo para outro.\n",
    "\n",
    "* int(x)\n",
    "* float(x)\n",
    "* complex(x)\n",
    "* str(x)\n",
    "* list(x)\n",
    "* tuple(x)\n",
    "* dict(x)\n",
    "\n",
    "Contanto que a conversão faça sentido."
   ]
  },
  {
   "cell_type": "code",
   "execution_count": 42,
   "metadata": {
    "colab": {
     "base_uri": "https://localhost:8080/"
    },
    "executionInfo": {
     "elapsed": 688,
     "status": "ok",
     "timestamp": 1613872942188,
     "user": {
      "displayName": "Michele Bertoldo Coêlho",
      "photoUrl": "https://lh3.googleusercontent.com/a-/AOh14Giwy34LLmFLDcLRK2QCeySCEq0SKYETU4CM5kPwrg=s64",
      "userId": "17752576285375789184"
     },
     "user_tz": 180
    },
    "id": "YMfrH-esT5YT",
    "outputId": "8bcf7279-ca06-45f5-d348-f0e55a440ba4"
   },
   "outputs": [
    {
     "name": "stdout",
     "output_type": "stream",
     "text": [
      "1234 <class 'int'>\n",
      "1234.0 <class 'float'>\n",
      "(1+3j) <class 'complex'> 1.0 3.0\n"
     ]
    }
   ],
   "source": [
    "# Conversão: string -> número\n",
    "\n",
    "i = int('1234')\n",
    "f = float('1234')\n",
    "c = complex('1+3j')\n",
    "\n",
    "print( i, type(i) )\n",
    "print( f, type(f) )\n",
    "print( c, type(c), c.real, c.imag )\n",
    "\n",
    "#print( int(\"xyz\") )  # Erro"
   ]
  },
  {
   "cell_type": "code",
   "execution_count": 45,
   "metadata": {
    "colab": {
     "base_uri": "https://localhost:8080/"
    },
    "executionInfo": {
     "elapsed": 1324,
     "status": "ok",
     "timestamp": 1613873327788,
     "user": {
      "displayName": "Michele Bertoldo Coêlho",
      "photoUrl": "https://lh3.googleusercontent.com/a-/AOh14Giwy34LLmFLDcLRK2QCeySCEq0SKYETU4CM5kPwrg=s64",
      "userId": "17752576285375789184"
     },
     "user_tz": 180
    },
    "id": "zAx0i5dOVk1d",
    "outputId": "5e5c79f7-6d82-4380-d2a4-b6107ec4afa1"
   },
   "outputs": [
    {
     "name": "stdout",
     "output_type": "stream",
     "text": [
      "123 3.1416 (3+2j) <class 'str'> <class 'str'> <class 'str'>\n"
     ]
    }
   ],
   "source": [
    "# Conversão: número -> string\n",
    "\n",
    "s1 = str(123)\n",
    "s2 = str(3.1416)\n",
    "s3 = str(3+2j)\n",
    "\n",
    "print(s1, s2, s3, type(s1), type(s2), type(s3))"
   ]
  },
  {
   "cell_type": "code",
   "execution_count": 51,
   "metadata": {
    "colab": {
     "base_uri": "https://localhost:8080/"
    },
    "executionInfo": {
     "elapsed": 2865,
     "status": "ok",
     "timestamp": 1613873720987,
     "user": {
      "displayName": "Michele Bertoldo Coêlho",
      "photoUrl": "https://lh3.googleusercontent.com/a-/AOh14Giwy34LLmFLDcLRK2QCeySCEq0SKYETU4CM5kPwrg=s64",
      "userId": "17752576285375789184"
     },
     "user_tz": 180
    },
    "id": "tHKmN2CaWSYM",
    "outputId": "6a9e474d-ffd4-4214-875a-3c850b8a5d97"
   },
   "outputs": [
    {
     "name": "stdout",
     "output_type": "stream",
     "text": [
      "['a', 'b', 'c'] <class 'list'>\n",
      "['1', '2', '3'] <class 'list'>\n",
      "('e', 'f', 'g') <class 'tuple'>\n"
     ]
    }
   ],
   "source": [
    "# Conversão: string -> lista, tupla\n",
    "\n",
    "# Cada caractere da string vira um elemento da lista/tupla\n",
    "lista1 = list(\"abc\")\n",
    "print(lista1, type(lista1))\n",
    "\n",
    "lista2 = list(\"123\")\n",
    "print(lista2, type(lista2))\n",
    "\n",
    "tupla = tuple(\"efg\")\n",
    "print(tupla, type(tupla))"
   ]
  },
  {
   "cell_type": "code",
   "execution_count": 57,
   "metadata": {
    "colab": {
     "base_uri": "https://localhost:8080/",
     "height": 231
    },
    "executionInfo": {
     "elapsed": 960,
     "status": "error",
     "timestamp": 1613873954354,
     "user": {
      "displayName": "Michele Bertoldo Coêlho",
      "photoUrl": "https://lh3.googleusercontent.com/a-/AOh14Giwy34LLmFLDcLRK2QCeySCEq0SKYETU4CM5kPwrg=s64",
      "userId": "17752576285375789184"
     },
     "user_tz": 180
    },
    "id": "QwvNTwpiXZlP",
    "outputId": "7dd2a0e4-35a7-4cba-c454-e99de3bb9367"
   },
   "outputs": [
    {
     "ename": "TypeError",
     "evalue": "ignored",
     "output_type": "error",
     "traceback": [
      "\u001b[0;31m---------------------------------------------------------------------------\u001b[0m",
      "\u001b[0;31mTypeError\u001b[0m                                 Traceback (most recent call last)",
      "\u001b[0;32m<ipython-input-57-5dd160c220e0>\u001b[0m in \u001b[0;36m<module>\u001b[0;34m()\u001b[0m\n\u001b[1;32m      1\u001b[0m \u001b[0;31m# Conversão: número -> lista, tupla não funciona!\u001b[0m\u001b[0;34m\u001b[0m\u001b[0;34m\u001b[0m\u001b[0;34m\u001b[0m\u001b[0m\n\u001b[1;32m      2\u001b[0m \u001b[0;34m\u001b[0m\u001b[0m\n\u001b[0;32m----> 3\u001b[0;31m \u001b[0mlista3\u001b[0m \u001b[0;34m=\u001b[0m \u001b[0mlist\u001b[0m\u001b[0;34m(\u001b[0m\u001b[0;36m123\u001b[0m\u001b[0;34m)\u001b[0m\u001b[0;34m\u001b[0m\u001b[0;34m\u001b[0m\u001b[0m\n\u001b[0m\u001b[1;32m      4\u001b[0m \u001b[0mprint\u001b[0m\u001b[0;34m(\u001b[0m\u001b[0mlista3\u001b[0m\u001b[0;34m,\u001b[0m \u001b[0mtype\u001b[0m\u001b[0;34m(\u001b[0m\u001b[0mlista3\u001b[0m\u001b[0;34m)\u001b[0m\u001b[0;34m)\u001b[0m\u001b[0;34m\u001b[0m\u001b[0;34m\u001b[0m\u001b[0m\n\u001b[1;32m      5\u001b[0m \u001b[0;34m\u001b[0m\u001b[0m\n",
      "\u001b[0;31mTypeError\u001b[0m: 'int' object is not iterable"
     ]
    }
   ],
   "source": [
    "# Conversão: número -> lista, tupla não funciona!\n",
    "\n",
    "lista3 = list(123)\n",
    "print(lista3, type(lista3))\n",
    "\n",
    "tupla = tuple(123)\n",
    "print(tupla, type(tupla))\n",
    "\n",
    "lista3 = list(123.4)\n",
    "print(lista3, type(lista3))\n",
    "\n",
    "tupla = tuple(123.4)\n",
    "print(tupla, type(tupla))\n",
    "\n",
    "lista3 = list(2+3j)\n",
    "print(lista3, type(lista3))\n",
    "\n",
    "tupla = tuple(2+3j)\n",
    "print(tupla, type(tupla))"
   ]
  },
  {
   "cell_type": "markdown",
   "metadata": {
    "id": "MmNtGu3uZ5J6"
   },
   "source": [
    "# Forms (formulários)\n",
    "\n",
    "Recurso exclusivo do Collab que permite alterar os valores dos parâmetros de uma célula.\n",
    "\n",
    "* Síntaxe:\n",
    "  ```\n",
    "  parâmetro = valor #@param\n",
    "  ```\n",
    "Obs: é preciso iniciar o parâmetro com alguma atribuição.\n",
    "\n",
    "A edição do formulário possui os seguintes campos para alteração:\n",
    "\n",
    "* *Forma do campo do formulário*:\n",
    "  * **Dropdown**: entrada é escolhida dentre opções pré-definidas\n",
    "  * **Input**: entrada é digitada\n",
    "  * **Slider**: entrada é escolhida de um intervalo de valores definido\n",
    "  * **Markdown**: texto para o formulário; não é entrada para parâmetro\n",
    "* *Nome da variável*: altera o nome da variável, porém apenas na linha de atribuição. O nome da variável em outras partes da célula não é alterado.\n",
    "* *Tipo da variável*: determina quais entradas são permitidas\n",
    "  * number\n",
    "  * integer\n",
    "  * raw\n",
    "  * boolean\n",
    "  * string\n",
    "  * date"
   ]
  },
  {
   "cell_type": "code",
   "execution_count": null,
   "metadata": {
    "id": "K53IcM3ffDbK"
   },
   "outputs": [],
   "source": [
    "A = 6 #@param {type: 'raw'}\n",
    "b = 10 #@param"
   ]
  },
  {
   "cell_type": "code",
   "execution_count": 80,
   "metadata": {
    "colab": {
     "base_uri": "https://localhost:8080/"
    },
    "executionInfo": {
     "elapsed": 1059,
     "status": "ok",
     "timestamp": 1613878314673,
     "user": {
      "displayName": "Michele Bertoldo Coêlho",
      "photoUrl": "https://lh3.googleusercontent.com/a-/AOh14Giwy34LLmFLDcLRK2QCeySCEq0SKYETU4CM5kPwrg=s64",
      "userId": "17752576285375789184"
     },
     "user_tz": 180
    },
    "id": "pZ2T7I2GlkV7",
    "outputId": "019cfe28-9d6d-4015-9a58-90881d360ec2"
   },
   "outputs": [
    {
     "name": "stdout",
     "output_type": "stream",
     "text": [
      "3.14 7 7\n",
      "DATA:  2021-02-21\n"
     ]
    }
   ],
   "source": [
    "#@markdown # Parâmetros numéricos\n",
    "\n",
    "var_number = 3.14#@param {type: 'number'}\n",
    "var_int =  7#@param {type: 'integer'}\n",
    "var_raw = var_int #@param {type: 'raw'}\n",
    "\n",
    "print(var_number, var_int, var_raw)\n",
    "\n",
    "var_slider1 = 88#@param {type:'slider', min:0, max:100, step:1}\n",
    "var_slider2 = 0.6#@param {type:'slider', min:-5, max:5, step:0.1}\n",
    "\n",
    "\n",
    "#@markdown # Valores booleanos\n",
    "\n",
    "var_boo = False #@param {type:\"boolean\"}\n",
    "\n",
    "\n",
    "#@markdown # Strings\n",
    "\n",
    "var_string = \"file.dat\" #@param {type:\"string\"}\n",
    "\n",
    "\n",
    "#@markdown # Datas!\n",
    "\n",
    "var_data = \"2021-02-21\" #@param {type:\"date\"}\n",
    "\n",
    "\n",
    "#@markdown # Dropdown\n",
    "\n",
    "var_dropdown = 10 #@param [\"10\", \"20\", \"30\"] {type:\"raw\"}\n",
    "var_dropdown2 = \"Earth\" #@param [\"Mercury\", \"Mars\", \"Venus\"] {allow-input: true}\n",
    "\n",
    "print(\"DATA: \", var_data)\n"
   ]
  },
  {
   "cell_type": "code",
   "execution_count": 79,
   "metadata": {
    "colab": {
     "base_uri": "https://localhost:8080/"
    },
    "executionInfo": {
     "elapsed": 1036,
     "status": "ok",
     "timestamp": 1613876920407,
     "user": {
      "displayName": "Michele Bertoldo Coêlho",
      "photoUrl": "https://lh3.googleusercontent.com/a-/AOh14Giwy34LLmFLDcLRK2QCeySCEq0SKYETU4CM5kPwrg=s64",
      "userId": "17752576285375789184"
     },
     "user_tz": 180
    },
    "id": "K4Cc5GUCaPcB",
    "outputId": "4eb9d121-3013-4833-f0ef-b3c3a06644a7"
   },
   "outputs": [
    {
     "name": "stdout",
     "output_type": "stream",
     "text": [
      "casa\n",
      "77\n",
      "False\n",
      "5\n",
      "0.6\n"
     ]
    }
   ],
   "source": [
    "#@markdown # Testando as formas de campo do formulário:\n",
    "\n",
    "a =  'casa'#@param\n",
    "b = 47 #@param {type:\"slider\", min:0, max:100, step:1}\n",
    "c = False #@param {type:\"boolean\"}\n",
    "d = 5 #@param [\"5\", \"4\", \"3\"] {type:\"raw\"}\n",
    "e = 0.6 #@param {type:\"slider\", min:0, max:1, step:0.2}\n",
    "\n",
    "print(a)\n",
    "print(b + 30)\n",
    "print(c)\n",
    "print(d)\n",
    "print(e)"
   ]
  },
  {
   "cell_type": "code",
   "execution_count": 78,
   "metadata": {
    "colab": {
     "base_uri": "https://localhost:8080/"
    },
    "executionInfo": {
     "elapsed": 852,
     "status": "ok",
     "timestamp": 1613876599642,
     "user": {
      "displayName": "Michele Bertoldo Coêlho",
      "photoUrl": "https://lh3.googleusercontent.com/a-/AOh14Giwy34LLmFLDcLRK2QCeySCEq0SKYETU4CM5kPwrg=s64",
      "userId": "17752576285375789184"
     },
     "user_tz": 180
    },
    "id": "kunViedrahVF",
    "outputId": "19bab855-b8fc-460a-ddea-04c8593e4346"
   },
   "outputs": [
    {
     "name": "stdout",
     "output_type": "stream",
     "text": [
      "3.1415\n",
      "(2+3j) <class 'complex'> 2.0 3.0\n",
      "-6\n",
      "3.14 <class 'float'>\n",
      "-6\n",
      "123 <class 'str'>\n",
      "2021-02-21 <class 'str'>\n"
     ]
    }
   ],
   "source": [
    "#@markdown # Testando os tipos de variáveis\n",
    "\n",
    "# Number aceita complex, mas avisa para erro\n",
    "var_number = 3.1415 #@param {type: 'number'}\n",
    "var_number2 = 2+3j #@param {type: 'number'}\n",
    "print(var_number)\n",
    "print(var_number2, type(var_number2), var_number2.real, var_number2.imag)\n",
    "\n",
    "# Integer aceita float, mas acusa erro\n",
    "var_int =  -6#@param {type: 'integer'}\n",
    "var_int2 = 3.14#@param {type: 'integer'}\n",
    "print(var_int)\n",
    "print(var_int2, type(var_int2))\n",
    "\n",
    "# Raw aceita qualquer coisa, inclusive outras variáveis\n",
    "var_raw = var_int #@param {type: 'raw'}\n",
    "print(var_raw)\n",
    "\n",
    "# Booleanos aceitam apenas True ou False\n",
    "var_boo = True#@param {type:\"boolean\"}\n",
    "\n",
    "# No campo para strings qualquer coisa digitada é str\n",
    "var_str = \"123\" #@param {type:\"string\"}\n",
    "print(var_str, type(var_str))\n",
    "\n",
    "# Para datas\n",
    "var_date = \"2021-02-21\" #@param {type:\"date\"}\n",
    "print(var_date, type(var_date))"
   ]
  },
  {
   "cell_type": "markdown",
   "metadata": {
    "id": "m_ZChR-9HKa1"
   },
   "source": [
    "# Entrada via terminal\n",
    "\n",
    "Para a entrada de dados sem o uso de formulários, usa-se a função **input()**.\n",
    "\n",
    "Diferentemente dos formulários, que são uma ferramenta exclusiva do Collab, a função **input()** pode ser utilizada em qualquer ambiente.\n",
    "\n",
    "* Sintaxe:\n",
    "\n",
    "    ```\n",
    "  variável que armazena a entrada = input(\"Texto que aparece no terminal pedindo a variável: \")\n",
    "  ```\n",
    "\n",
    "A função input() sempre guardará a entrada com o tipo *string*."
   ]
  },
  {
   "cell_type": "code",
   "execution_count": 1,
   "metadata": {
    "colab": {
     "base_uri": "https://localhost:8080/"
    },
    "executionInfo": {
     "elapsed": 13611,
     "status": "ok",
     "timestamp": 1613903269596,
     "user": {
      "displayName": "Michele Bertoldo Coêlho",
      "photoUrl": "https://lh3.googleusercontent.com/a-/AOh14Giwy34LLmFLDcLRK2QCeySCEq0SKYETU4CM5kPwrg=s64",
      "userId": "17752576285375789184"
     },
     "user_tz": 180
    },
    "id": "wT8rcqeSgNoU",
    "outputId": "6a1651a4-7b3c-40f1-c751-937506789914"
   },
   "outputs": [
    {
     "name": "stdout",
     "output_type": "stream",
     "text": [
      "Digite a: 1\n",
      "Digite b: 2\n",
      "Digite c: 3\n",
      "1 2 3 <class 'str'> <class 'str'> <class 'str'>\n"
     ]
    }
   ],
   "source": [
    "# Baskhara:\n",
    "# Resolver: a*x**2 + b*x + c = 0\n",
    "\n",
    "a = input(\"Digite a: \")\n",
    "b = input(\"Digite b: \")\n",
    "c = input(\"Digite c: \")\n",
    "\n",
    "print(a, b, c, type(a), type(b), type(c))"
   ]
  },
  {
   "cell_type": "code",
   "execution_count": 3,
   "metadata": {
    "colab": {
     "base_uri": "https://localhost:8080/"
    },
    "executionInfo": {
     "elapsed": 10102,
     "status": "ok",
     "timestamp": 1613903772817,
     "user": {
      "displayName": "Michele Bertoldo Coêlho",
      "photoUrl": "https://lh3.googleusercontent.com/a-/AOh14Giwy34LLmFLDcLRK2QCeySCEq0SKYETU4CM5kPwrg=s64",
      "userId": "17752576285375789184"
     },
     "user_tz": 180
    },
    "id": "ie9zo_RvIl7g",
    "outputId": "6d3360e1-903f-4e09-fe5f-6fe09f548d55"
   },
   "outputs": [
    {
     "name": "stdout",
     "output_type": "stream",
     "text": [
      "Digite a: 1\n",
      "Digite b: 2\n",
      "Digite c: 3\n",
      "\n",
      "  x1 = (-1-1.4142135623730951j) \n",
      "  x2 = (-1+1.4142135623730951j)\n"
     ]
    }
   ],
   "source": [
    "# Baskhara:\n",
    "# Resolver: a*x**2 + b*x + c = 0\n",
    "\n",
    "# O comando import pode estar em qualquer lugar da célula desde que preceda o\n",
    "# primeiro uso de uma função que precise do módulo importado. Coloca-se no\n",
    "# início por uma questão de organização.\n",
    "import cmath\n",
    "\n",
    "a = float( input(\"Digite a: \") )\n",
    "b = float( input(\"Digite b: \") )\n",
    "c = float( input(\"Digite c: \") )\n",
    "\n",
    "x1 = (- b - cmath.sqrt(b**2-4*a*c)) / (2 * a)\n",
    "x2 = (- b + cmath.sqrt(b**2-4*a*c)) / (2 * a)\n",
    "\n",
    "# Lembrando que '\\n' é um caractere especial que move o cursor para nova linha\n",
    "print(\"\\n\",\n",
    "      \" x1 =\", x1, '\\n',\n",
    "      ' x2 =', x2)\n",
    "\n"
   ]
  }
 ],
 "metadata": {
  "colab": {
   "authorship_tag": "ABX9TyMxeh1DJ7pazQHPIY6rHOfh",
   "collapsed_sections": [],
   "name": "FIP10108_2020_2_328679_Aula05.ipynb",
   "provenance": []
  },
  "kernelspec": {
   "display_name": "Python 3",
   "language": "python",
   "name": "python3"
  },
  "language_info": {
   "codemirror_mode": {
    "name": "ipython",
    "version": 3
   },
   "file_extension": ".py",
   "mimetype": "text/x-python",
   "name": "python",
   "nbconvert_exporter": "python",
   "pygments_lexer": "ipython3",
   "version": "3.8.8"
  }
 },
 "nbformat": 4,
 "nbformat_minor": 1
}
